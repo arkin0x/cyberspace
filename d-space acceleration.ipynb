{
 "cells": [
  {
   "cell_type": "markdown",
   "metadata": {},
   "source": [
    "SHA-256 produces a 256-bit (32-byte) hash value, and its output is essentially random. If we assume the output is uniformly distributed, then the probability of the first bit being zero is 1/2, the probability of the first two bits both being zero is 1/4, and so on. Therefore, the probability of the first _n_ bits being zero is 1/(2^n)."
   ]
  },
  {
   "cell_type": "markdown",
   "metadata": {},
   "source": [
    "The Bitmain Antminer S9 is a popular ASIC miner for Bitcoin. It's capable of achieving a hash rate of approximately 13 TH/s (terahashes per second) under normal operating conditions."
   ]
  },
  {
   "cell_type": "markdown",
   "metadata": {},
   "source": [
    "We can estimate that the average number of hashes to achivee a given number of leading zeroes is equal to the inverse of the probability, we can find out an average number of leading zeroes an S9 can produce per second by taking the log2 of the hash rate:"
   ]
  },
  {
   "cell_type": "code",
   "execution_count": 1,
   "metadata": {},
   "outputs": [
    {
     "data": {
      "text/plain": [
       "43.56357685678944"
      ]
     },
     "execution_count": 1,
     "metadata": {},
     "output_type": "execute_result"
    }
   ],
   "source": [
    "hash_rate = 10**12 * 13 # 13 TH/s\n",
    "import math\n",
    "pow_per_sec = math.log2(hash_rate) # 43.6 leading zeroes in one second\n",
    "\n",
    "pow_per_sec # proof of work we can produce in one second on average at 13 TH/s"
   ]
  },
  {
   "cell_type": "markdown",
   "metadata": {},
   "source": [
    "The Gibson is the fundamental quanta of cyberspace. There are 2^85 Gibsons per axis."
   ]
  },
  {
   "cell_type": "code",
   "execution_count": 2,
   "metadata": {},
   "outputs": [],
   "source": [
    "gibsons_per_axis = 2**85 # 2^85 gibsons per axis"
   ]
  },
  {
   "cell_type": "markdown",
   "metadata": {},
   "source": [
    "D-Space is 96056 km per axis:\n",
    "![d-space](https://image.nostr.build/2ddaf94574984f0d902f8698b945867922716ae9b20e073a9328b39511998ebd.png)\n",
    "\n",
    "Let's calculate millimeter/Gibson:"
   ]
  },
  {
   "cell_type": "code",
   "execution_count": 3,
   "metadata": {},
   "outputs": [
    {
     "data": {
      "text/plain": [
       "'0.00000000000000248298940373105082'"
      ]
     },
     "execution_count": 3,
     "metadata": {},
     "output_type": "execute_result"
    }
   ],
   "source": [
    "km_per_axis = 96056 # 96056 km per axis\n",
    "mm_per_axis = 96056 * 1000 * 1000\n",
    "mm_per_gibson = mm_per_axis / gibsons_per_axis\n",
    "\n",
    "format(mm_per_gibson, '.32f')"
   ]
  },
  {
   "cell_type": "code",
   "execution_count": 11,
   "metadata": {},
   "outputs": [
    {
     "name": "stdout",
     "output_type": "stream",
     "text": [
      "0.00125306209852738 mm\n"
     ]
    }
   ],
   "source": [
    "# calculate the d-space distance traveled in sectors\n",
    "sector = 2 ** 30\n",
    "sectors = 470 # sectors traveled\n",
    "gibsons_traveled = sectors * sector\n",
    "mm_traveled = gibsons_traveled * mm_per_gibson\n",
    "km_traveled = mm_traveled / 1000 / 1000\n",
    "print(mm_traveled, 'mm')"
   ]
  },
  {
   "cell_type": "markdown",
   "metadata": {},
   "source": [
    "That's pretty small.\n",
    "\n",
    "Each time a drift event is published with an amount of POW (leading zeroes), that POW is applied to the velocity. The velocity is applied to the position of the avatar 60 times per second."
   ]
  },
  {
   "cell_type": "code",
   "execution_count": 5,
   "metadata": {},
   "outputs": [
    {
     "data": {
      "text/plain": [
       "'1.93673173491021755054930508777034'"
      ]
     },
     "execution_count": 5,
     "metadata": {},
     "output_type": "execute_result"
    }
   ],
   "source": [
    "velocity = 2**pow_per_sec\n",
    "\n",
    "gibsons_per_sec = velocity * 60 # velocity is applied 60 times per second\n",
    "\n",
    "dist_traveled = gibsons_per_sec * mm_per_gibson\n",
    "\n",
    "format(dist_traveled, '.32f') # mm per second"
   ]
  },
  {
   "cell_type": "markdown",
   "metadata": {},
   "source": [
    "In one second, we've traveled 1.9mm. However, as the ASIC continues to find POW, our velocity will compound."
   ]
  },
  {
   "cell_type": "code",
   "execution_count": 6,
   "metadata": {},
   "outputs": [
    {
     "data": {
      "text/plain": [
       "'3544.21907488570150235318578779697418'"
      ]
     },
     "execution_count": 6,
     "metadata": {},
     "output_type": "execute_result"
    }
   ],
   "source": [
    "gibsons_per_min = 0\n",
    "velocity_per_sec = 0\n",
    "\n",
    "for _ in range(60):  # for each second in a minute\n",
    "  velocity_per_sec += 2**pow_per_sec\n",
    "  for _ in range(60):  # 60 times per second\n",
    "    gibsons_per_min += velocity_per_sec\n",
    "\n",
    "# Now gibsons_per_min holds the total gibsons traveled in a minute with increasing velocity\n",
    "\n",
    "dist_traveled = gibsons_per_min * mm_per_gibson\n",
    "\n",
    "format(dist_traveled, '.32f') # mm per minute"
   ]
  },
  {
   "cell_type": "markdown",
   "metadata": {},
   "source": [
    "In one minute, we've traveled 3.5 meters."
   ]
  },
  {
   "cell_type": "code",
   "execution_count": 7,
   "metadata": {},
   "outputs": [
    {
     "data": {
      "text/plain": [
       "'12.55350775934014428969476284692064'"
      ]
     },
     "execution_count": 7,
     "metadata": {},
     "output_type": "execute_result"
    }
   ],
   "source": [
    "gibsons_per_hour = 0\n",
    "velocity_per_sec = 0\n",
    "\n",
    "for _ in range(60*60):  # for each second in a minute\n",
    "  velocity_per_sec += 2**pow_per_sec\n",
    "  for _ in range(60):  # 60 times per second\n",
    "    gibsons_per_hour += velocity_per_sec\n",
    "\n",
    "# Now gibsons_per_min holds the total gibsons traveled in a minute with increasing velocity\n",
    "\n",
    "dist_traveled = gibsons_per_hour * mm_per_gibson / 1000 / 1000\n",
    "\n",
    "format(dist_traveled, '.32f') # km per hour"
   ]
  },
  {
   "cell_type": "markdown",
   "metadata": {},
   "source": [
    "In one hour we have traveled 12.55km.\n",
    "\n",
    "If 13 TH/s gets you 12.55km/hour, then 1 TH/s gives you:"
   ]
  },
  {
   "cell_type": "code",
   "execution_count": 8,
   "metadata": {},
   "outputs": [
    {
     "data": {
      "text/plain": [
       "(0.9653846153846154, 'kmph')"
      ]
     },
     "execution_count": 8,
     "metadata": {},
     "output_type": "execute_result"
    }
   ],
   "source": [
    "12.55/13,'kmph'"
   ]
  },
  {
   "cell_type": "markdown",
   "metadata": {},
   "source": [
    "For reference, the average walking speed of an adult is about 5kmph. So you would need 5 TH/s for an avatar to keep up with you as you walked around, and the startup acceleration time would be pretty slow."
   ]
  },
  {
   "cell_type": "markdown",
   "metadata": {},
   "source": [
    "Please let me know if any of these calculations are incorrect!\n",
    "\n",
    "t.me/ONOSENDAITECH\n",
    "\n",
    "njump.me/npub1arkn0xxxll4llgy9qxkrncn3vc4l69s0dz8ef3zadykcwe7ax3dqrrh43w"
   ]
  }
 ],
 "metadata": {
  "kernelspec": {
   "display_name": "Python 3",
   "language": "python",
   "name": "python3"
  },
  "language_info": {
   "codemirror_mode": {
    "name": "ipython",
    "version": 3
   },
   "file_extension": ".py",
   "mimetype": "text/x-python",
   "name": "python",
   "nbconvert_exporter": "python",
   "pygments_lexer": "ipython3",
   "version": "3.9.13"
  }
 },
 "nbformat": 4,
 "nbformat_minor": 2
}
